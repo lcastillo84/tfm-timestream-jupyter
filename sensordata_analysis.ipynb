{
 "cells": [
  {
   "cell_type": "markdown",
   "metadata": {},
   "source": [
    "# Conexión a base de datos Amazon Timestream usando Jupyter Notebook para análisis de datos de sensores\n",
    "## IMF Smart Education - Master Business Analytics y Big Data - Trabajo de fin de master\n",
    "### Autor: Luis Castillo\n"
   ]
  },
  {
   "cell_type": "markdown",
   "metadata": {},
   "source": [
    "En este notebook se demuestra el procedimiento para extraer y procesar datos de una base de datos Amazon Timestream usando las librerías que pone a nuestra disposición AWS: *boto3* y *awswrangler*.  \n",
    "* __boto3__: Librería que ofrece una API orientada a objetos que permite crear, configurar y gestionar servicios de AWS.\n",
    "* __awswrangler__: Ofrece una capa de abstracción que permite importar datos de servicios de bases de datos de AWS en un dataframe Pandas.\n",
    " \n",
    " Tener en cuenta que el objetivo es simplemente demostrar el procedimiento de extracción de datos, no un análisis detallado de los mismos.  \n",
    "\n",
    " Iniciamos cargando las 3 librerías a utilizar:"
   ]
  },
  {
   "cell_type": "code",
   "execution_count": 8,
   "metadata": {},
   "outputs": [],
   "source": [
    "# Carga de librerías\n",
    "import awswrangler as wr\n",
    "import boto3\n",
    "import pandas as pd\n",
    "import numpy as np"
   ]
  },
  {
   "cell_type": "markdown",
   "metadata": {},
   "source": [
    "Con el siguiente código podemos extraer los datos de la base de datos Timestream y almacenarlos en un dataframe Pandas. Tener en cuenta que es necesario contar con credenciales configuradas en AWS-CLI."
   ]
  },
  {
   "cell_type": "code",
   "execution_count": 9,
   "metadata": {},
   "outputs": [],
   "source": [
    "# Definir algunas constantes\n",
    "DB_NAME = 'OperationsDB-demo'\n",
    "TABLE_NAME = 'machines'\n",
    "PERIOD = '30d'\n",
    "\n",
    "# Inicializar una sesión boto3. Requiere tener configurado AWS-CLI con credenciales para acceso a AWS. \n",
    "session=boto3.Session()\n",
    "\n",
    "# Acceder a datos de timestream usando sentencia SQL y guardar en un dataframe Pandas\n",
    "sql = f'SELECT * FROM \"{DB_NAME}\".\"{TABLE_NAME}\" WHERE time >= ago({PERIOD})'\n",
    "df_timestream = wr.timestream.query(sql=sql, chunked=False, boto3_session=session)"
   ]
  },
  {
   "cell_type": "markdown",
   "metadata": {},
   "source": [
    "En la variable `df` contamos con los datos para los últimos 30 días. "
   ]
  },
  {
   "cell_type": "code",
   "execution_count": 10,
   "metadata": {},
   "outputs": [
    {
     "data": {
      "text/html": [
       "<div>\n",
       "<style scoped>\n",
       "    .dataframe tbody tr th:only-of-type {\n",
       "        vertical-align: middle;\n",
       "    }\n",
       "\n",
       "    .dataframe tbody tr th {\n",
       "        vertical-align: top;\n",
       "    }\n",
       "\n",
       "    .dataframe thead th {\n",
       "        text-align: right;\n",
       "    }\n",
       "</style>\n",
       "<table border=\"1\" class=\"dataframe\">\n",
       "  <thead>\n",
       "    <tr style=\"text-align: right;\">\n",
       "      <th></th>\n",
       "      <th>machineId</th>\n",
       "      <th>sensorType</th>\n",
       "      <th>location</th>\n",
       "      <th>machineType</th>\n",
       "      <th>sensorModel</th>\n",
       "      <th>sensorId</th>\n",
       "      <th>measure_name</th>\n",
       "      <th>time</th>\n",
       "      <th>measure_value::double</th>\n",
       "      <th>measure_value::bigint</th>\n",
       "    </tr>\n",
       "  </thead>\n",
       "  <tbody>\n",
       "    <tr>\n",
       "      <th>0</th>\n",
       "      <td>1</td>\n",
       "      <td>1</td>\n",
       "      <td>building1</td>\n",
       "      <td>compressor</td>\n",
       "      <td>dragino_lsn50</td>\n",
       "      <td>61089b67-940f-4e33-9ec4-c92d472ad215</td>\n",
       "      <td>Temperature_C</td>\n",
       "      <td>2022-09-07 13:30:02.077</td>\n",
       "      <td>67.3</td>\n",
       "      <td>NaN</td>\n",
       "    </tr>\n",
       "    <tr>\n",
       "      <th>1</th>\n",
       "      <td>2</td>\n",
       "      <td>vibration</td>\n",
       "      <td>building1</td>\n",
       "      <td>engine</td>\n",
       "      <td>rejeee_sl500us</td>\n",
       "      <td>bdeb778a-9afc-4298-adb4-25505a87d3aa</td>\n",
       "      <td>Acceleration_X_mG</td>\n",
       "      <td>2022-09-07 13:30:02.187</td>\n",
       "      <td>NaN</td>\n",
       "      <td>443.0</td>\n",
       "    </tr>\n",
       "    <tr>\n",
       "      <th>2</th>\n",
       "      <td>2</td>\n",
       "      <td>vibration</td>\n",
       "      <td>building1</td>\n",
       "      <td>engine</td>\n",
       "      <td>rejeee_sl500us</td>\n",
       "      <td>bdeb778a-9afc-4298-adb4-25505a87d3aa</td>\n",
       "      <td>Acceleration_X_mG</td>\n",
       "      <td>2022-09-07 13:35:02.000</td>\n",
       "      <td>NaN</td>\n",
       "      <td>406.0</td>\n",
       "    </tr>\n",
       "    <tr>\n",
       "      <th>3</th>\n",
       "      <td>2</td>\n",
       "      <td>vibration</td>\n",
       "      <td>building1</td>\n",
       "      <td>engine</td>\n",
       "      <td>rejeee_sl500us</td>\n",
       "      <td>bdeb778a-9afc-4298-adb4-25505a87d3aa</td>\n",
       "      <td>Acceleration_X_mG</td>\n",
       "      <td>2022-09-07 13:40:01.963</td>\n",
       "      <td>NaN</td>\n",
       "      <td>441.0</td>\n",
       "    </tr>\n",
       "    <tr>\n",
       "      <th>4</th>\n",
       "      <td>2</td>\n",
       "      <td>vibration</td>\n",
       "      <td>building1</td>\n",
       "      <td>engine</td>\n",
       "      <td>rejeee_sl500us</td>\n",
       "      <td>bdeb778a-9afc-4298-adb4-25505a87d3aa</td>\n",
       "      <td>Acceleration_X_mG</td>\n",
       "      <td>2022-09-07 13:45:02.035</td>\n",
       "      <td>NaN</td>\n",
       "      <td>443.0</td>\n",
       "    </tr>\n",
       "  </tbody>\n",
       "</table>\n",
       "</div>"
      ],
      "text/plain": [
       "  machineId sensorType   location machineType     sensorModel  \\\n",
       "0         1          1  building1  compressor   dragino_lsn50   \n",
       "1         2  vibration  building1      engine  rejeee_sl500us   \n",
       "2         2  vibration  building1      engine  rejeee_sl500us   \n",
       "3         2  vibration  building1      engine  rejeee_sl500us   \n",
       "4         2  vibration  building1      engine  rejeee_sl500us   \n",
       "\n",
       "                               sensorId       measure_name  \\\n",
       "0  61089b67-940f-4e33-9ec4-c92d472ad215      Temperature_C   \n",
       "1  bdeb778a-9afc-4298-adb4-25505a87d3aa  Acceleration_X_mG   \n",
       "2  bdeb778a-9afc-4298-adb4-25505a87d3aa  Acceleration_X_mG   \n",
       "3  bdeb778a-9afc-4298-adb4-25505a87d3aa  Acceleration_X_mG   \n",
       "4  bdeb778a-9afc-4298-adb4-25505a87d3aa  Acceleration_X_mG   \n",
       "\n",
       "                     time  measure_value::double  measure_value::bigint  \n",
       "0 2022-09-07 13:30:02.077                   67.3                    NaN  \n",
       "1 2022-09-07 13:30:02.187                    NaN                  443.0  \n",
       "2 2022-09-07 13:35:02.000                    NaN                  406.0  \n",
       "3 2022-09-07 13:40:01.963                    NaN                  441.0  \n",
       "4 2022-09-07 13:45:02.035                    NaN                  443.0  "
      ]
     },
     "execution_count": 10,
     "metadata": {},
     "output_type": "execute_result"
    }
   ],
   "source": [
    "df_timestream.head()"
   ]
  },
  {
   "cell_type": "markdown",
   "metadata": {},
   "source": [
    "Nótese que las medidas de temperatura y aceleración se encuentran una debajo de la otra, lo cual dificulta el análisis de datos con pandas. En la siguiente sección acondicionaremos el dataset para poder utilizarlo más fácilmente"
   ]
  },
  {
   "cell_type": "markdown",
   "metadata": {},
   "source": [
    "#### Pre-procesamiento de los datos"
   ]
  },
  {
   "cell_type": "markdown",
   "metadata": {},
   "source": [
    "Con el siguiente código se promedian los datos en períodos de 15 minutos, se agrupan por máquina y se presentan en un dataframe con una variable por cada columna."
   ]
  },
  {
   "cell_type": "code",
   "execution_count": 11,
   "metadata": {},
   "outputs": [],
   "source": [
    "def process_dataframe(df: pd.DataFrame) -> pd.DataFrame:\n",
    "    # Copiamos el dataframe original\n",
    "    df_p = df.copy() \n",
    "    # Combinar columnas measure_value::double y measure_value::bigint (son excluyentes entre sí)\n",
    "    df_p['value'] = df_p['measure_value::double'].fillna(0) + df_p['measure_value::bigint'].fillna(0)\n",
    "    # Eliminar columnas innecesarias\n",
    "    df_p.drop(['sensorId', 'sensorType', 'sensorModel', 'measure_value::double', 'measure_value::bigint'], axis=1, inplace=True)\n",
    "    # Redondeamos la fecha en períodos de 15 minutos \n",
    "    df_p['time'] = df_p['time'].dt.floor('15min')\n",
    "    # Pivotar los datos \n",
    "    df_p = df_p.pivot_table(\n",
    "        values='value',\n",
    "        index=['time', 'machineId', 'location', 'machineType'],\n",
    "        columns='measure_name',\n",
    "        aggfunc=np.mean,\n",
    "        fill_value=np.nan,\n",
    "        ).reset_index()\n",
    "    df_p.columns.name=None\n",
    "    return df_p"
   ]
  },
  {
   "cell_type": "code",
   "execution_count": 12,
   "metadata": {},
   "outputs": [],
   "source": [
    "df = process_dataframe(df_timestream)"
   ]
  },
  {
   "cell_type": "markdown",
   "metadata": {},
   "source": [
    "Finalmente, tenemos el df listo para análisis:"
   ]
  },
  {
   "cell_type": "code",
   "execution_count": 13,
   "metadata": {},
   "outputs": [
    {
     "data": {
      "text/html": [
       "<div>\n",
       "<style scoped>\n",
       "    .dataframe tbody tr th:only-of-type {\n",
       "        vertical-align: middle;\n",
       "    }\n",
       "\n",
       "    .dataframe tbody tr th {\n",
       "        vertical-align: top;\n",
       "    }\n",
       "\n",
       "    .dataframe thead th {\n",
       "        text-align: right;\n",
       "    }\n",
       "</style>\n",
       "<table border=\"1\" class=\"dataframe\">\n",
       "  <thead>\n",
       "    <tr style=\"text-align: right;\">\n",
       "      <th></th>\n",
       "      <th>time</th>\n",
       "      <th>machineId</th>\n",
       "      <th>location</th>\n",
       "      <th>machineType</th>\n",
       "      <th>Acceleration_X_mG</th>\n",
       "      <th>Acceleration_Y_mG</th>\n",
       "      <th>Acceleration_Z_mG</th>\n",
       "      <th>Temperature_C</th>\n",
       "    </tr>\n",
       "  </thead>\n",
       "  <tbody>\n",
       "    <tr>\n",
       "      <th>0</th>\n",
       "      <td>2022-09-07 13:30:00</td>\n",
       "      <td>1</td>\n",
       "      <td>building1</td>\n",
       "      <td>compressor</td>\n",
       "      <td>643.333333</td>\n",
       "      <td>613.666667</td>\n",
       "      <td>708.000000</td>\n",
       "      <td>67.200000</td>\n",
       "    </tr>\n",
       "    <tr>\n",
       "      <th>1</th>\n",
       "      <td>2022-09-07 13:30:00</td>\n",
       "      <td>10</td>\n",
       "      <td>building2</td>\n",
       "      <td>engine</td>\n",
       "      <td>-257.333333</td>\n",
       "      <td>-224.333333</td>\n",
       "      <td>-280.333333</td>\n",
       "      <td>74.033333</td>\n",
       "    </tr>\n",
       "    <tr>\n",
       "      <th>2</th>\n",
       "      <td>2022-09-07 13:30:00</td>\n",
       "      <td>11</td>\n",
       "      <td>building2</td>\n",
       "      <td>pump</td>\n",
       "      <td>1197.333333</td>\n",
       "      <td>1212.000000</td>\n",
       "      <td>1208.333333</td>\n",
       "      <td>82.833333</td>\n",
       "    </tr>\n",
       "    <tr>\n",
       "      <th>3</th>\n",
       "      <td>2022-09-07 13:30:00</td>\n",
       "      <td>12</td>\n",
       "      <td>building2</td>\n",
       "      <td>motor</td>\n",
       "      <td>427.333333</td>\n",
       "      <td>482.666667</td>\n",
       "      <td>428.333333</td>\n",
       "      <td>64.866667</td>\n",
       "    </tr>\n",
       "    <tr>\n",
       "      <th>4</th>\n",
       "      <td>2022-09-07 13:30:00</td>\n",
       "      <td>13</td>\n",
       "      <td>building2</td>\n",
       "      <td>compressor</td>\n",
       "      <td>470.666667</td>\n",
       "      <td>463.666667</td>\n",
       "      <td>374.333333</td>\n",
       "      <td>79.033333</td>\n",
       "    </tr>\n",
       "  </tbody>\n",
       "</table>\n",
       "</div>"
      ],
      "text/plain": [
       "    time              machineId         location          machineType        \\\n",
       "0 2022-09-07 13:30:00                 1         building1        compressor   \n",
       "1 2022-09-07 13:30:00                10         building2            engine   \n",
       "2 2022-09-07 13:30:00                11         building2              pump   \n",
       "3 2022-09-07 13:30:00                12         building2             motor   \n",
       "4 2022-09-07 13:30:00                13         building2        compressor   \n",
       "\n",
       "   Acceleration_X_mG  Acceleration_Y_mG  Acceleration_Z_mG  Temperature_C      \n",
       "0         643.333333         613.666667         708.000000          67.200000  \n",
       "1        -257.333333        -224.333333        -280.333333          74.033333  \n",
       "2        1197.333333        1212.000000        1208.333333          82.833333  \n",
       "3         427.333333         482.666667         428.333333          64.866667  \n",
       "4         470.666667         463.666667         374.333333          79.033333  "
      ]
     },
     "execution_count": 13,
     "metadata": {},
     "output_type": "execute_result"
    }
   ],
   "source": [
    "df.head()"
   ]
  },
  {
   "cell_type": "markdown",
   "metadata": {},
   "source": [
    "#### Análisis exploratorio de datos  \n",
    "\n",
    "Se presenta un análisis básico de los datos disponibles en el dataframe. Recordar que los datos disponibles en la base de datos son simulados (no corresponden a sensores reales), lo que limita el análisis que se puede realizar"
   ]
  },
  {
   "cell_type": "code",
   "execution_count": 16,
   "metadata": {},
   "outputs": [
    {
     "data": {
      "text/html": [
       "<div>\n",
       "<style scoped>\n",
       "    .dataframe tbody tr th:only-of-type {\n",
       "        vertical-align: middle;\n",
       "    }\n",
       "\n",
       "    .dataframe tbody tr th {\n",
       "        vertical-align: top;\n",
       "    }\n",
       "\n",
       "    .dataframe thead th {\n",
       "        text-align: right;\n",
       "    }\n",
       "</style>\n",
       "<table border=\"1\" class=\"dataframe\">\n",
       "  <thead>\n",
       "    <tr style=\"text-align: right;\">\n",
       "      <th></th>\n",
       "      <th>Acceleration_X_mG</th>\n",
       "      <th>Acceleration_Y_mG</th>\n",
       "      <th>Acceleration_Z_mG</th>\n",
       "      <th>Temperature_C</th>\n",
       "    </tr>\n",
       "  </thead>\n",
       "  <tbody>\n",
       "    <tr>\n",
       "      <th>count</th>\n",
       "      <td>2420.000000</td>\n",
       "      <td>2420.000000</td>\n",
       "      <td>2420.000000</td>\n",
       "      <td>2420.000000</td>\n",
       "    </tr>\n",
       "    <tr>\n",
       "      <th>mean</th>\n",
       "      <td>55.023967</td>\n",
       "      <td>56.706061</td>\n",
       "      <td>54.845730</td>\n",
       "      <td>69.449402</td>\n",
       "    </tr>\n",
       "    <tr>\n",
       "      <th>std</th>\n",
       "      <td>561.706385</td>\n",
       "      <td>562.710487</td>\n",
       "      <td>563.017967</td>\n",
       "      <td>12.636887</td>\n",
       "    </tr>\n",
       "    <tr>\n",
       "      <th>min</th>\n",
       "      <td>-729.666667</td>\n",
       "      <td>-781.666667</td>\n",
       "      <td>-787.000000</td>\n",
       "      <td>50.733333</td>\n",
       "    </tr>\n",
       "    <tr>\n",
       "      <th>25%</th>\n",
       "      <td>-517.000000</td>\n",
       "      <td>-501.666667</td>\n",
       "      <td>-506.166667</td>\n",
       "      <td>64.900000</td>\n",
       "    </tr>\n",
       "    <tr>\n",
       "      <th>50%</th>\n",
       "      <td>21.666667</td>\n",
       "      <td>20.166667</td>\n",
       "      <td>26.666667</td>\n",
       "      <td>69.066667</td>\n",
       "    </tr>\n",
       "    <tr>\n",
       "      <th>75%</th>\n",
       "      <td>478.666667</td>\n",
       "      <td>483.666667</td>\n",
       "      <td>480.083333</td>\n",
       "      <td>76.966667</td>\n",
       "    </tr>\n",
       "    <tr>\n",
       "      <th>max</th>\n",
       "      <td>1252.000000</td>\n",
       "      <td>1296.333333</td>\n",
       "      <td>1310.000000</td>\n",
       "      <td>131.410000</td>\n",
       "    </tr>\n",
       "  </tbody>\n",
       "</table>\n",
       "</div>"
      ],
      "text/plain": [
       "       Acceleration_X_mG  Acceleration_Y_mG  Acceleration_Z_mG  \\\n",
       "count        2420.000000        2420.000000        2420.000000   \n",
       "mean           55.023967          56.706061          54.845730   \n",
       "std           561.706385         562.710487         563.017967   \n",
       "min          -729.666667        -781.666667        -787.000000   \n",
       "25%          -517.000000        -501.666667        -506.166667   \n",
       "50%            21.666667          20.166667          26.666667   \n",
       "75%           478.666667         483.666667         480.083333   \n",
       "max          1252.000000        1296.333333        1310.000000   \n",
       "\n",
       "       Temperature_C      \n",
       "count        2420.000000  \n",
       "mean           69.449402  \n",
       "std            12.636887  \n",
       "min            50.733333  \n",
       "25%            64.900000  \n",
       "50%            69.066667  \n",
       "75%            76.966667  \n",
       "max           131.410000  "
      ]
     },
     "execution_count": 16,
     "metadata": {},
     "output_type": "execute_result"
    }
   ],
   "source": [
    "# Estadísticas básicas\n",
    "df.describe()"
   ]
  },
  {
   "cell_type": "code",
   "execution_count": 19,
   "metadata": {},
   "outputs": [
    {
     "data": {
      "text/plain": [
       "time                 0\n",
       "machineId            0\n",
       "location             0\n",
       "machineType          0\n",
       "Acceleration_X_mG    0\n",
       "Acceleration_Y_mG    0\n",
       "Acceleration_Z_mG    0\n",
       "Temperature_C        0\n",
       "dtype: int64"
      ]
     },
     "execution_count": 19,
     "metadata": {},
     "output_type": "execute_result"
    }
   ],
   "source": [
    "# Verificar si hay nulos\n",
    "df.isna().sum()"
   ]
  },
  {
   "cell_type": "code",
   "execution_count": 20,
   "metadata": {},
   "outputs": [
    {
     "data": {
      "text/html": [
       "<div>\n",
       "<style scoped>\n",
       "    .dataframe tbody tr th:only-of-type {\n",
       "        vertical-align: middle;\n",
       "    }\n",
       "\n",
       "    .dataframe tbody tr th {\n",
       "        vertical-align: top;\n",
       "    }\n",
       "\n",
       "    .dataframe thead th {\n",
       "        text-align: right;\n",
       "    }\n",
       "</style>\n",
       "<table border=\"1\" class=\"dataframe\">\n",
       "  <thead>\n",
       "    <tr style=\"text-align: right;\">\n",
       "      <th></th>\n",
       "      <th>Acceleration_X_mG</th>\n",
       "      <th>Acceleration_Y_mG</th>\n",
       "      <th>Acceleration_Z_mG</th>\n",
       "      <th>Temperature_C</th>\n",
       "    </tr>\n",
       "    <tr>\n",
       "      <th>machineType</th>\n",
       "      <th></th>\n",
       "      <th></th>\n",
       "      <th></th>\n",
       "      <th></th>\n",
       "    </tr>\n",
       "  </thead>\n",
       "  <tbody>\n",
       "    <tr>\n",
       "      <th>compressor</th>\n",
       "      <td>442.101377</td>\n",
       "      <td>445.273829</td>\n",
       "      <td>443.385675</td>\n",
       "      <td>70.001267</td>\n",
       "    </tr>\n",
       "    <tr>\n",
       "      <th>engine</th>\n",
       "      <td>-119.325069</td>\n",
       "      <td>-119.549862</td>\n",
       "      <td>-121.131129</td>\n",
       "      <td>59.596033</td>\n",
       "    </tr>\n",
       "    <tr>\n",
       "      <th>motor</th>\n",
       "      <td>-99.769146</td>\n",
       "      <td>-96.353719</td>\n",
       "      <td>-99.185124</td>\n",
       "      <td>74.263444</td>\n",
       "    </tr>\n",
       "    <tr>\n",
       "      <th>pump</th>\n",
       "      <td>-2.911295</td>\n",
       "      <td>-2.546006</td>\n",
       "      <td>-3.686501</td>\n",
       "      <td>73.936865</td>\n",
       "    </tr>\n",
       "  </tbody>\n",
       "</table>\n",
       "</div>"
      ],
      "text/plain": [
       "             Acceleration_X_mG  Acceleration_Y_mG  Acceleration_Z_mG  \\\n",
       "machineType                                                            \n",
       "compressor          442.101377         445.273829         443.385675   \n",
       "engine             -119.325069        -119.549862        -121.131129   \n",
       "motor               -99.769146         -96.353719         -99.185124   \n",
       "pump                 -2.911295          -2.546006          -3.686501   \n",
       "\n",
       "             Temperature_C      \n",
       "machineType                     \n",
       "compressor           70.001267  \n",
       "engine               59.596033  \n",
       "motor                74.263444  \n",
       "pump                 73.936865  "
      ]
     },
     "execution_count": 20,
     "metadata": {},
     "output_type": "execute_result"
    }
   ],
   "source": [
    "# Calcular promedio de temperatura y aceleración por tipo de máquina.\n",
    "df.groupby('machineType').mean()"
   ]
  },
  {
   "cell_type": "code",
   "execution_count": 24,
   "metadata": {},
   "outputs": [
    {
     "data": {
      "text/plain": [
       "machineId\n",
       "15    85.327576\n",
       "16    85.312314\n",
       "20    83.990854\n",
       "Name: Temperature_C, dtype: float64"
      ]
     },
     "execution_count": 24,
     "metadata": {},
     "output_type": "execute_result"
    }
   ],
   "source": [
    "# Encontrar las tres máquinas con mayor temperatura promedio\n",
    "df.groupby('machineId').mean()['Temperature_C'].sort_values(ascending=False).head(3)\n"
   ]
  },
  {
   "cell_type": "markdown",
   "metadata": {},
   "source": [
    "#### Conclusiones\n",
    "\n",
    "En este notebook se muestra el procedimiento para acceder a los datos disponibles en Amazon Timestream usando las APIs provistas por Amazon. De esta forma, un analista o científico de datos puede apalancarse en el lenguaje Python para realizar tareas complejas de analítica descriptiva o predictiva."
   ]
  }
 ],
 "metadata": {
  "kernelspec": {
   "display_name": "Python 3.10.4 ('.venv': pipenv)",
   "language": "python",
   "name": "python3"
  },
  "language_info": {
   "codemirror_mode": {
    "name": "ipython",
    "version": 3
   },
   "file_extension": ".py",
   "mimetype": "text/x-python",
   "name": "python",
   "nbconvert_exporter": "python",
   "pygments_lexer": "ipython3",
   "version": "3.10.4"
  },
  "orig_nbformat": 4,
  "vscode": {
   "interpreter": {
    "hash": "15f7e036b7d652f204e667ff4eb41fda9d440112f4ffe3848caaae06ac1f61fa"
   }
  }
 },
 "nbformat": 4,
 "nbformat_minor": 2
}
